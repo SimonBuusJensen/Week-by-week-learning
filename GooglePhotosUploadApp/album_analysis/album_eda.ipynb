{
 "cells": [
  {
   "cell_type": "code",
   "execution_count": 4,
   "metadata": {
    "collapsed": true,
    "pycharm": {
     "is_executing": false
    }
   },
   "outputs": [],
   "source": [
    "import os\n",
    "import re"
   ]
  },
  {
   "cell_type": "code",
   "execution_count": 11,
   "outputs": [],
   "source": [
    "def get_album_names(path):\n",
    "    album_names = sorted(os.listdir(path))\n",
    "    return album_names"
   ],
   "metadata": {
    "collapsed": false,
    "pycharm": {
     "name": "#%%\n",
     "is_executing": false
    }
   }
  },
  {
   "cell_type": "code",
   "execution_count": 28,
   "outputs": [
    {
     "data": {
      "text/plain": "['1 & 2 juledag 2012',\n '1 st juledag 2007',\n '1 st juledag 2009',\n '2006-04 (apr)',\n 'Aalborg mesterskab 09',\n 'Afslutning Triton 2011',\n 'Afslutning triton 2009',\n 'Anders ny båd 2015',\n 'Andreas 18 års fødselsdag 2011',\n 'Andreas konfirmation 290407',\n 'Arbejde på Hus 2013',\n 'Aros Junior cup 08',\n 'Badminton 2008',\n 'Badminton 2009',\n 'Badminton 2011',\n 'Badminton DM julie',\n 'Badminton Danish junior cup okt. 2008',\n 'Badminton Odense 2009',\n 'Badminton U19 arr. og U19 stævne',\n 'Badminton julen 05',\n 'Badminton overnatning piger feb.07',\n 'Badminton trænere',\n 'Badminton træningslejer 2007',\n 'Bentes fødselsdag 2010',\n 'Berlin 2014',\n 'Billeder 2004 - sejltur med Siemens',\n 'Billeder af Familien 2006',\n 'Billeder af køkken 05',\n 'Billeder af simon,jan,mette,sus,julie og michael',\n 'Billeder fra Badminton',\n 'Billeder fra grillaften 06',\n 'Blandede billeder 2006',\n 'Blandede billeder 2007',\n 'Blandede billeder 2008',\n 'Blandede billeder 2009 incl BB',\n 'Blandede billeder 2010',\n 'Blandede billeder 2011',\n 'Blandede billeder 2012 incl BB',\n 'Blandede billeder 2013',\n 'Blandede billeder 2014 incl BB',\n 'Blandede billeder 2015',\n 'Blandede billeder 2016',\n 'Blandede billeder 2017',\n 'Blokhus Marianne 2008',\n 'Blokhus Marianne 2010',\n 'Bowling brande sep 05',\n 'Cirkeline 2016',\n 'Danfoss',\n 'Dimession Simon 06',\n 'Dittes konfirmation 2007',\n 'Diverse billeder Julie Ditte',\n 'Diverse jul - nytår 2009-2010',\n 'Dorit 60 år 2012',\n 'Edinburg 2009',\n 'Elly & Erik Guldbryllup',\n 'Else Marie 60 år - kobberbryllup 2008',\n 'Erik & Elly',\n 'Far og Mor',\n 'Ferie 2005 -Tyrkiet',\n 'Ferie 2006 - København',\n 'Ferie 2006 - Mallorca',\n 'Ferie 2007 - Kreta',\n 'Ferie 2008 - Italien - Frankrig',\n 'Ferie 2009 - Cypern',\n 'Ferie 2009 - hjemme',\n 'Ferie 2010 - Kreta',\n 'Ferie 2010 - Skotland',\n 'Ferie 2011 - Rhodos',\n \"Ferie 2012 USA '12\",\n 'Ferie 2013  Kreta',\n 'Ferie 2013 Italien Niels & Bente',\n 'Ferie 2014 Fuerteventure',\n 'Ferie 2015 USA',\n 'Ferie 2016 Rhodos',\n 'Ferie 2017 Fuerteventure',\n 'Ferie 2018 Bangkok Vietnam',\n 'Firmagolf 2010',\n 'Frederik Student 2013',\n 'Frokost ved Swelle og Dorit 2013',\n 'Fur 2006',\n 'Fur 2007',\n 'Fur 2008',\n 'Fur 2009',\n 'Fur 2013',\n 'Fur 2014',\n 'Fætter & Kusine 2012 på AMV',\n 'Fætter og kusine i Rønbjerg 18.04.08',\n 'Gallafest 2009',\n 'Gallafest på hasseris gym 09.05.08',\n 'Gamle billeder fra havnen',\n 'Gasteloge spisning marts 2009',\n 'Gastelogen på Mølletur 2009',\n 'Gildemøde forår 2013 ved madsen',\n 'Gildemøde ved Sus+mic efterår 2017',\n 'Golftur 2015 I Cirkeline',\n 'Gril 2009',\n 'Gril 2010',\n 'Gril 2011',\n 'Gril 2012',\n 'Gril 2013',\n 'Gril 5-5-07',\n 'Gril aftener 07',\n 'Gril i Sommerhus 2009',\n 'Gril med Søren og Maria 06',\n 'Gril med Torben og Lise 2006',\n 'Gril med Torben og Lise 2009',\n 'Gril ved Kaj 2005',\n 'Gril ved Kaj 2008',\n 'Gril ved Kaj 2011',\n 'Gril ved Kaj 2016',\n 'Gril ved Madsen 06',\n 'Gril ved Niels & Bente 2013',\n 'Gril ved Torben & Lise 2008',\n 'Gril ved kaj 2009',\n 'Gril ved kaj 2010',\n 'Grill 26-5-07',\n 'Grill ved Farmor & Farfar',\n 'Helene & Marianne',\n 'Hente båd til maleren 05',\n 'I Jan og Mettes Sommerhus 2005',\n 'Indvigelse af Kælder 2013',\n 'Isolerings af kælder 2014',\n 'JEC paris 2009',\n 'Jan Nielsen 50 år 2007',\n 'Januar 2013',\n 'Jeppe student 2012',\n 'Jeppes konfirmation',\n 'Johannegildet forår 2014 Slettestrand',\n 'Jul 2005',\n 'Jul 2006',\n 'Jul 2007',\n 'Jul 2008',\n 'Jul 2009',\n 'Jul 2010',\n 'Jul 2011',\n 'Jul 2012',\n 'Jul 2014',\n 'Jul i katedralen 2010',\n 'Jul i katedralen 2011',\n 'Julefrokost trailerlaug 2010',\n 'Julefrokost trailerlaug 2015',\n 'Julefrokost trailerlaug 2017',\n 'Julefrokost tralierlaug 2011',\n 'Juletur 2016',\n 'Juletur 2017',\n 'Julie Assens 2009-2010',\n 'Julie Galla 2013',\n 'Julie Konfirmation 220407',\n 'Julie Student 2013',\n 'Julie billeder 2012',\n 'Julie fest 2010',\n 'Julie i Berlin 2011',\n 'Julie på 3 mdr tur 2014',\n 'Julies 13 års fødselsdag 2006',\n 'Julies 14 års fødselsdag 2007',\n 'Julies 15 års fødselsdag 2008',\n 'Julies 16 års fødselsdag 2009',\n 'Julies 17 års fødselsdag 2010',\n 'Julies 18 års fødselsdag 2011',\n 'Julies 20 års fødselsdag 2013',\n 'Julies konfirmation 2007',\n 'KSTB cup 2011',\n 'Kaj 60 år 2017',\n 'Kaj 70 år 2017',\n 'Karneval 2009',\n 'Karneval 2010',\n 'Karneval 2012',\n 'Karneval 2013',\n 'Karneval 2014',\n 'Karneval 2015',\n 'Kina 2012',\n 'Kirstens fødselsdag 2014',\n 'Klassetur Lalandia 2008',\n 'Koncert med Queen Machine 2017',\n 'Kristian 50 år 2012',\n 'Kælderen 2006',\n 'Kælderen 2007',\n 'Kælderen 2012',\n 'Læsø 2006',\n 'Læsø 2007',\n 'Læsø Sæby 2009',\n 'Male sommerhus 2009',\n 'Maleren og Kirstens Guldbryllup 2016',\n 'Malerens fødselsdag 2011',\n 'Mannetur 2009',\n 'Mannetur 2010',\n 'Mannetur 2011',\n 'Mannetur 2014',\n 'Mannetur 2015 - 2016',\n 'Mariannes bryllup 2010',\n 'Match race ved MM',\n 'Mic. med cigar',\n 'Michaels 49 års fødselsdag 2008',\n 'Michaels 50 års fødselsdag 2009',\n 'Motions rum Triton',\n 'Nibe 2006',\n 'Nicolaj hjemkomst 2011',\n 'Nicolaj officer 2009',\n 'Nicolaj og Carinas bryllup 2010',\n 'Nicolaj spise 2011',\n 'Nicolajs 25 år 2009',\n 'Niels 60 års fødselsdag 2014',\n 'Nusser fødselsdag 2008',\n 'Nusser sommerhus 2009',\n 'Nussers fødselsdag 2010',\n 'Nussers fødselsdag 2011',\n 'Nussers fødselsdag 2014',\n 'Nussers fødselsdag 2015',\n 'Nussers fødselsdag 2016',\n 'Nussers fødselsdag 2017',\n 'Nussers sommer 2009',\n 'Ny trappe 2007',\n 'Nytårsaften 04-05',\n 'Nytårsaften 05-06',\n 'Nytårsaften 06-07',\n 'Nytårsaften 07-08',\n 'Nytårsaften 08-09',\n 'Nytårsaften 09-10',\n 'Nytårsaften 10-11',\n 'Nytårsaften 11-12',\n 'Nytårsaften 12-13',\n 'Nytårsaften 13-14',\n 'Nytårsaften 14-15',\n 'Nytårsaften 17-18',\n 'Ombygning kontor 2010',\n 'Ombygning stue 2007',\n 'Paris 2016',\n 'Petang 2008',\n 'Phone 06-11-2017',\n 'Phone 15-08-2017',\n 'Pia 50 år 2011',\n 'Pusning af hus 2009',\n 'Pussers begravelse 2009 + Ib',\n 'Pussers fødselsdag 2008',\n 'Rengøring Egense 2011',\n 'Rhodos 2016',\n 'Rågeunge spisning 2008',\n 'SIEMENS',\n 'Santhans 06',\n 'Santhans 07',\n 'Santhans 08',\n 'Santhans 10',\n 'Santhans 12',\n 'Santhans 13',\n 'Santhans 14',\n 'Santhans 15',\n 'Sejlads med Triton 2009',\n 'Shelter 2011',\n 'Sidste skoledag Julie 2009',\n 'Sidste skoledag Simon',\n 'Simon 2012',\n 'Simon Assens 2006 -2007',\n 'Simon ULM 2017',\n 'Simon flytter til Bikuben 2016',\n 'Simon forfest 2009',\n 'Simon ski 2010',\n 'Simon soldat 2011',\n 'Simon student 2010',\n 'Simon ungdomslege06',\n 'Simons & Michaels fødselsdag 2011',\n 'Simons & Michaels fødselsdag 2012',\n 'Simons & Michaels fødselsdag 2013',\n 'Simons & Michaels fødselsdag 2015',\n 'Simons 16 års fødselsdag 2006',\n 'Simons 17 års fødselsdag 2007',\n 'Simons 18 års fødselsdag 2008',\n 'Simons 19 års fødselsdag 2009',\n 'Simons 20 års fødselsdag 2010',\n 'Simons lejlighed 2011',\n 'Simons lejlighed 2014',\n 'Simons lejlighed 2015',\n 'Skagen - Aalb. uge 8 2007',\n 'Skagen 2007',\n 'Skagen 2008',\n 'Skagen 2009',\n 'Skagen 2010',\n 'Skagen 2011',\n 'Skagen 2013',\n 'Skagen 2014',\n 'Skagen 2015',\n 'Skagen 2016',\n 'Skagen Logetur 04.08',\n 'Skagen påsken 2009',\n 'Ski 2006',\n 'Ski 2006-1',\n 'Ski 2008',\n 'Ski 2010',\n 'Ski 2013',\n 'Ski 2014',\n 'Skole julie teater',\n 'Slovenien 2010',\n 'Smykkekursus 2015',\n 'Sofie Buus Student 2015',\n 'Sofies konfirmation 2010',\n 'Sofies konfirmation 280407',\n 'Sommer 2006 Egense',\n 'Sommer 2008 Egense',\n 'Sommer 2010 Egense',\n 'Sommer 2013 Egense',\n 'Sommer 2014 Egense',\n 'Sommer 2015 Egense',\n 'Sommerhus 2016 Egense',\n 'Sommerhus 2017 Egense',\n 'Sommerhus 2018 Egense',\n 'Sommerhus uge 23 -2008',\n 'Sommerhus ved Pia 2010',\n 'Sommerhus ved Torben & Lise 2009',\n 'Sommerhus ved torben & Lise 2012',\n 'Sommerkomsammen Trailerlaug 2012',\n 'Sommerkomsammen Trailerlaug 2013',\n 'Sommerkomsammen Trailerlaug 2014',\n 'Sommerkomsammen Trailerlaug 2015',\n 'Sommerkomsammen Trailerlaug 2016',\n 'Sommerkomsammen trailerlaug 2017',\n 'Spisning før Lis Sørensen 2008',\n 'Spisning med Robert & Inger 2012',\n 'Steen Pedersen 60 år',\n 'Surprise party Elly 06',\n 'Susanne + sono på Egholm',\n 'Susanne arrangemnet med arbejde 2014',\n 'Susanne fødselsdag 2007',\n 'Susanne fødselsdag 2008',\n 'Susannes fødselsdag 2009',\n 'Susannes fødselsdag 2011',\n 'Svend & Lotte 2007',\n 'Swelle & Dorit Kobberbryllup 2009',\n 'Swelle 60 år',\n 'Swelle 70 år 2016',\n 'Sølvbryllup  Michael & Susanne 2014',\n 'Sølvbryllup Jan & Mette 2013',\n 'Søndervig familie 2009',\n 'Søren og Maria kobberbryllup',\n 'TAMSEN 2014',\n 'TEST',\n 'Telenord fastelavn 2011',\n 'Til Middag hos Michale & Susanne 2012',\n 'Torben & Lise 2011',\n 'Torben 50 år',\n 'Triton klubblad',\n 'USA 2011 Siemens',\n 'USA 2012',\n 'USA 2012 Fotobog',\n 'Ullas 50 års fødselsdag 2014',\n 'Ungdomsleje 2007',\n 'Ved Nicolai og Carinas hus + Søren fødselsdag + Fastalavnskostumer',\n 'Ved Rødhus 06',\n 'Veteran arrangement 2009',\n 'VinterFerie 2009',\n 'Ændring af forhave 2009']"
     },
     "metadata": {},
     "output_type": "execute_result",
     "execution_count": 28
    }
   ],
   "source": [
    "# p = \"/home/simon/Desktop/Backup af billeder 14022018\"\n",
    "p = \"/media/simon/VERBATIM/Backup af billeder 14022018\"\n",
    "get_album_names(p)"
   ],
   "metadata": {
    "collapsed": false,
    "pycharm": {
     "name": "#%%\n",
     "is_executing": false
    }
   }
  },
  {
   "cell_type": "code",
   "execution_count": 37,
   "outputs": [],
   "source": [
    "def get_file_extensions_by_album(album):\n",
    "    assert os.path.isdir(album)\n",
    "    files = os.listdir(album)\n",
    "    extensions = []\n",
    "    for file in files:\n",
    "        match = re.match(r\".*\\.(.*)$\", file)\n",
    "        if match:\n",
    "            extension = match.group(1)\n",
    "            extension = extension.lower()\n",
    "            if not extension in extensions:\n",
    "                extensions.append(extension)\n",
    "    return extensions\n",
    "\n",
    "def get_file_extensions_by_albums(path_to_albums):\n",
    "    album_names = get_album_names(path_to_albums)\n",
    "    extensions = []\n",
    "    for album_name in album_names:\n",
    "        album_path = os.path.join(path_to_albums, album_name)\n",
    "        try:\n",
    "            extensions_in_album = get_file_extensions_by_album(album_path)\n",
    "        except AssertionError:\n",
    "            continue\n",
    "        for extension in extensions_in_album:\n",
    "            if not extension in extensions:\n",
    "                extensions.append(extension)\n",
    "    return extensions"
   ],
   "metadata": {
    "collapsed": false,
    "pycharm": {
     "name": "#%%\n",
     "is_executing": false
    }
   }
  },
  {
   "cell_type": "code",
   "execution_count": 38,
   "outputs": [
    {
     "data": {
      "text/plain": "['jpg',\n 'db',\n 'dat',\n 'tif',\n 'mpg',\n 'thm',\n 'ini',\n 'avi',\n 'mp4',\n 'bmp',\n 'scn',\n 'zip',\n 'mts',\n '3gp',\n 'store',\n 'jpeg',\n 'mcf',\n 'mcf~']"
     },
     "metadata": {},
     "output_type": "execute_result",
     "execution_count": 38
    }
   ],
   "source": [
    "get_file_extensions_by_albums(p)\n",
    "    \n",
    "    "
   ],
   "metadata": {
    "collapsed": false,
    "pycharm": {
     "name": "#%%\n",
     "is_executing": false
    }
   }
  },
  {
   "cell_type": "code",
   "execution_count": null,
   "outputs": [],
   "source": [
    "\n"
   ],
   "metadata": {
    "collapsed": false,
    "pycharm": {
     "name": "#%%\n"
    }
   }
  }
 ],
 "metadata": {
  "kernelspec": {
   "display_name": "Python 3",
   "language": "python",
   "name": "python3"
  },
  "language_info": {
   "codemirror_mode": {
    "name": "ipython",
    "version": 2
   },
   "file_extension": ".py",
   "mimetype": "text/x-python",
   "name": "python",
   "nbconvert_exporter": "python",
   "pygments_lexer": "ipython2",
   "version": "2.7.6"
  },
  "pycharm": {
   "stem_cell": {
    "cell_type": "raw",
    "source": [],
    "metadata": {
     "collapsed": false
    }
   }
  }
 },
 "nbformat": 4,
 "nbformat_minor": 0
}